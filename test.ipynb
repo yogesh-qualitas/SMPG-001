{
 "cells": [
  {
   "cell_type": "code",
   "execution_count": 1,
   "metadata": {},
   "outputs": [],
   "source": [
    "import hashlib\n",
    "import random\n",
    "import string\n",
    "import uuid"
   ]
  },
  {
   "cell_type": "code",
   "execution_count": 2,
   "metadata": {},
   "outputs": [],
   "source": [
    "\n",
    "def generate_password(website, date_time, length=16):\n",
    "    mac_address = hex(uuid.getnode())[2:]\n",
    "    unique_string = f\"{mac_address}_{website}_{date_time}\"\n",
    "    hashed_value = hashlib.sha256(unique_string.encode()).hexdigest()\n",
    "    random.seed(hashed_value)\n",
    "    password_chars = string.ascii_letters + string.digits + string.punctuation\n",
    "    password = ''.join(random.choices(password_chars, k=length))\n",
    "\n",
    "    return password"
   ]
  },
  {
   "cell_type": "code",
   "execution_count": 3,
   "metadata": {},
   "outputs": [
    {
     "data": {
      "text/plain": [
       "'H~96\"J|M5k`9gaNS'"
      ]
     },
     "execution_count": 3,
     "metadata": {},
     "output_type": "execute_result"
    }
   ],
   "source": [
    "generate_password(\"google.com\",\"2025-03-18 20:02:22\")"
   ]
  },
  {
   "cell_type": "code",
   "execution_count": 4,
   "metadata": {},
   "outputs": [],
   "source": [
    "generated = \"]00*GVw=0Rr3oULa\""
   ]
  }
 ],
 "metadata": {
  "kernelspec": {
   "display_name": "Python 3",
   "language": "python",
   "name": "python3"
  },
  "language_info": {
   "codemirror_mode": {
    "name": "ipython",
    "version": 3
   },
   "file_extension": ".py",
   "mimetype": "text/x-python",
   "name": "python",
   "nbconvert_exporter": "python",
   "pygments_lexer": "ipython3",
   "version": "3.13.1"
  }
 },
 "nbformat": 4,
 "nbformat_minor": 2
}
